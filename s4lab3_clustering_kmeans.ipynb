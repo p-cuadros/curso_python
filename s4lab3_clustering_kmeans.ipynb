{
  "nbformat": 4,
  "nbformat_minor": 0,
  "metadata": {
    "colab": {
      "name": "s4lab3-clustering_kmeans",
      "provenance": [],
      "collapsed_sections": [],
      "authorship_tag": "ABX9TyM0lOJBz/QEqnneQFUMJtU+",
      "include_colab_link": true
    },
    "kernelspec": {
      "name": "python3",
      "display_name": "Python 3"
    }
  },
  "cells": [
    {
      "cell_type": "markdown",
      "metadata": {
        "id": "view-in-github",
        "colab_type": "text"
      },
      "source": [
        "<a href=\"https://colab.research.google.com/github/p-cuadros/curso_python/blob/master/s4lab3_clustering_kmeans.ipynb\" target=\"_parent\"><img src=\"https://colab.research.google.com/assets/colab-badge.svg\" alt=\"Open In Colab\"/></a>"
      ]
    },
    {
      "cell_type": "code",
      "metadata": {
        "id": "W6NpbvrlPjPH",
        "colab_type": "code",
        "colab": {}
      },
      "source": [
        "import pandas as pd\n",
        "import numpy as np\n",
        "import matplotlib.pyplot as plt\n",
        "import seaborn as sns\n",
        "%matplotlib inline"
      ],
      "execution_count": 0,
      "outputs": []
    },
    {
      "cell_type": "code",
      "metadata": {
        "id": "FiSJHTllPq5y",
        "colab_type": "code",
        "colab": {}
      },
      "source": [
        "iris = pd.read_csv('iris.csv')"
      ],
      "execution_count": 0,
      "outputs": []
    },
    {
      "cell_type": "code",
      "metadata": {
        "id": "pfB-FQ8zPyLy",
        "colab_type": "code",
        "colab": {}
      },
      "source": [
        "from sklearn.cluster import KMeans"
      ],
      "execution_count": 0,
      "outputs": []
    },
    {
      "cell_type": "code",
      "metadata": {
        "id": "ahwtZhuZP4BY",
        "colab_type": "code",
        "colab": {}
      },
      "source": [
        "kmeans= KMeans(n_clusters=3,random_state=100)"
      ],
      "execution_count": 0,
      "outputs": []
    },
    {
      "cell_type": "code",
      "metadata": {
        "id": "_hRGXHDwQDYB",
        "colab_type": "code",
        "colab": {}
      },
      "source": [
        "features = iris.iloc[:,0:4]"
      ],
      "execution_count": 0,
      "outputs": []
    },
    {
      "cell_type": "code",
      "metadata": {
        "id": "kK_X06yQQQII",
        "colab_type": "code",
        "colab": {
          "base_uri": "https://localhost:8080/",
          "height": 35
        },
        "outputId": "158ee085-9c9f-4b7c-ff78-3a69f79feb7b"
      },
      "source": [
        "features.shape"
      ],
      "execution_count": 8,
      "outputs": [
        {
          "output_type": "execute_result",
          "data": {
            "text/plain": [
              "(150, 4)"
            ]
          },
          "metadata": {
            "tags": []
          },
          "execution_count": 8
        }
      ]
    },
    {
      "cell_type": "code",
      "metadata": {
        "id": "TXpxeX5kQbPw",
        "colab_type": "code",
        "colab": {
          "base_uri": "https://localhost:8080/",
          "height": 72
        },
        "outputId": "ba673d80-45cc-404c-ab66-01d37caba509"
      },
      "source": [
        "kmeans.fit(features)"
      ],
      "execution_count": 9,
      "outputs": [
        {
          "output_type": "execute_result",
          "data": {
            "text/plain": [
              "KMeans(algorithm='auto', copy_x=True, init='k-means++', max_iter=300,\n",
              "       n_clusters=3, n_init=10, n_jobs=None, precompute_distances='auto',\n",
              "       random_state=100, tol=0.0001, verbose=0)"
            ]
          },
          "metadata": {
            "tags": []
          },
          "execution_count": 9
        }
      ]
    },
    {
      "cell_type": "code",
      "metadata": {
        "id": "5SYgEmxBQfMY",
        "colab_type": "code",
        "colab": {
          "base_uri": "https://localhost:8080/",
          "height": 35
        },
        "outputId": "8b14d151-ed2c-4973-fbd9-5530a0841862"
      },
      "source": [
        "kmeans.inertia_"
      ],
      "execution_count": 10,
      "outputs": [
        {
          "output_type": "execute_result",
          "data": {
            "text/plain": [
              "78.94084142614602"
            ]
          },
          "metadata": {
            "tags": []
          },
          "execution_count": 10
        }
      ]
    },
    {
      "cell_type": "code",
      "metadata": {
        "id": "TnU0L95UQm4Q",
        "colab_type": "code",
        "colab": {}
      },
      "source": [
        "def elegirk (data):\n",
        "  sse={}\n",
        "  for k in range(1,20):\n",
        "    print('k: ', k)\n",
        "    kmean = KMeans(n_clusters=k, max_iter=500, n_init=100, random_state=0).fit(data)\n",
        "    sse[k] = kmean.inertia_\n",
        "  plt.figure()\n",
        "  plt.plot(list(sse.keys()),list(sse.values()))\n",
        "  plt.show()\n",
        "  return"
      ],
      "execution_count": 0,
      "outputs": []
    },
    {
      "cell_type": "code",
      "metadata": {
        "id": "InEZ-arZSzF3",
        "colab_type": "code",
        "colab": {
          "base_uri": "https://localhost:8080/",
          "height": 610
        },
        "outputId": "de1339ef-1b57-4692-99d3-9111d0b91838"
      },
      "source": [
        "elegirk(features)"
      ],
      "execution_count": 16,
      "outputs": [
        {
          "output_type": "stream",
          "text": [
            "k:  1\n",
            "k:  2\n",
            "k:  3\n",
            "k:  4\n",
            "k:  5\n",
            "k:  6\n",
            "k:  7\n",
            "k:  8\n",
            "k:  9\n",
            "k:  10\n",
            "k:  11\n",
            "k:  12\n",
            "k:  13\n",
            "k:  14\n",
            "k:  15\n",
            "k:  16\n",
            "k:  17\n",
            "k:  18\n",
            "k:  19\n"
          ],
          "name": "stdout"
        },
        {
          "output_type": "display_data",
          "data": {
            "image/png": "[encoded data removed]",
            "text/plain": [
              "<Figure size 432x288 with 1 Axes>"
            ]
          },
          "metadata": {
            "tags": []
          }
        }
      ]
    },
    {
      "cell_type": "code",
      "metadata": {
        "id": "brrYBxEvTChI",
        "colab_type": "code",
        "colab": {}
      },
      "source": [
        ""
      ],
      "execution_count": 0,
      "outputs": []
    }
  ]
}