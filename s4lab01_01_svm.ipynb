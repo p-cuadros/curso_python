{
  "nbformat": 4,
  "nbformat_minor": 0,
  "metadata": {
    "colab": {
      "name": "s4lab01-01_svm",
      "provenance": [],
      "collapsed_sections": [],
      "authorship_tag": "ABX9TyPS+cLren44yk5BDJL0N0EC",
      "include_colab_link": true
    },
    "kernelspec": {
      "name": "python3",
      "display_name": "Python 3"
    }
  },
  "cells": [
    {
      "cell_type": "markdown",
      "metadata": {
        "id": "view-in-github",
        "colab_type": "text"
      },
      "source": [
        "<a href=\"https://colab.research.google.com/github/p-cuadros/curso_python/blob/master/s4lab01_01_svm.ipynb\" target=\"_parent\"><img src=\"https://colab.research.google.com/assets/colab-badge.svg\" alt=\"Open In Colab\"/></a>"
      ]
    },
    {
      "cell_type": "code",
      "metadata": {
        "id": "mdPLWm5PzmQ8",
        "colab_type": "code",
        "colab": {}
      },
      "source": [
        "import pandas as pd\n",
        "import numpy as np\n",
        "import matplotlib.pyplot as plt\n",
        "import seaborn as sns\n",
        "%matplotlib inline"
      ],
      "execution_count": 0,
      "outputs": []
    },
    {
      "cell_type": "code",
      "metadata": {
        "id": "fUguMpR8z_Hd",
        "colab_type": "code",
        "colab": {}
      },
      "source": [
        "from sklearn.datasets import load_breast_cancer"
      ],
      "execution_count": 0,
      "outputs": []
    },
    {
      "cell_type": "code",
      "metadata": {
        "id": "DuBilKSP0St9",
        "colab_type": "code",
        "colab": {}
      },
      "source": [
        "cancer = load_breast_cancer()"
      ],
      "execution_count": 0,
      "outputs": []
    },
    {
      "cell_type": "code",
      "metadata": {
        "id": "kRak29Dw0VfF",
        "colab_type": "code",
        "colab": {
          "base_uri": "https://localhost:8080/",
          "height": 34
        },
        "outputId": "5957fee2-247c-44b6-93ae-4c1725f643d7"
      },
      "source": [
        "cancer.keys()"
      ],
      "execution_count": 8,
      "outputs": [
        {
          "output_type": "execute_result",
          "data": {
            "text/plain": [
              "dict_keys(['data', 'target', 'target_names', 'DESCR', 'feature_names', 'filename'])"
            ]
          },
          "metadata": {
            "tags": []
          },
          "execution_count": 8
        }
      ]
    },
    {
      "cell_type": "code",
      "metadata": {
        "id": "ajnMv5L10f79",
        "colab_type": "code",
        "colab": {}
      },
      "source": [
        "print(cancer['DESCR'])"
      ],
      "execution_count": 0,
      "outputs": []
    },
    {
      "cell_type": "code",
      "metadata": {
        "id": "UPFtrqfJ09JV",
        "colab_type": "code",
        "colab": {}
      },
      "source": [
        "df_data = pd.DataFrame(cancer['data'],columns=cancer['feature_names'])"
      ],
      "execution_count": 0,
      "outputs": []
    },
    {
      "cell_type": "code",
      "metadata": {
        "id": "pS58-sEb36D-",
        "colab_type": "code",
        "colab": {
          "base_uri": "https://localhost:8080/",
          "height": 459
        },
        "outputId": "50b1193a-7fa3-4e11-deb1-05bf9dc633cf"
      },
      "source": [
        "cancer['target']"
      ],
      "execution_count": 13,
      "outputs": [
        {
          "output_type": "execute_result",
          "data": {
            "text/plain": [
              "array([0, 0, 0, 0, 0, 0, 0, 0, 0, 0, 0, 0, 0, 0, 0, 0, 0, 0, 0, 1, 1, 1,\n",
              "       0, 0, 0, 0, 0, 0, 0, 0, 0, 0, 0, 0, 0, 0, 0, 1, 0, 0, 0, 0, 0, 0,\n",
              "       0, 0, 1, 0, 1, 1, 1, 1, 1, 0, 0, 1, 0, 0, 1, 1, 1, 1, 0, 1, 0, 0,\n",
              "       1, 1, 1, 1, 0, 1, 0, 0, 1, 0, 1, 0, 0, 1, 1, 1, 0, 0, 1, 0, 0, 0,\n",
              "       1, 1, 1, 0, 1, 1, 0, 0, 1, 1, 1, 0, 0, 1, 1, 1, 1, 0, 1, 1, 0, 1,\n",
              "       1, 1, 1, 1, 1, 1, 1, 0, 0, 0, 1, 0, 0, 1, 1, 1, 0, 0, 1, 0, 1, 0,\n",
              "       0, 1, 0, 0, 1, 1, 0, 1, 1, 0, 1, 1, 1, 1, 0, 1, 1, 1, 1, 1, 1, 1,\n",
              "       1, 1, 0, 1, 1, 1, 1, 0, 0, 1, 0, 1, 1, 0, 0, 1, 1, 0, 0, 1, 1, 1,\n",
              "       1, 0, 1, 1, 0, 0, 0, 1, 0, 1, 0, 1, 1, 1, 0, 1, 1, 0, 0, 1, 0, 0,\n",
              "       0, 0, 1, 0, 0, 0, 1, 0, 1, 0, 1, 1, 0, 1, 0, 0, 0, 0, 1, 1, 0, 0,\n",
              "       1, 1, 1, 0, 1, 1, 1, 1, 1, 0, 0, 1, 1, 0, 1, 1, 0, 0, 1, 0, 1, 1,\n",
              "       1, 1, 0, 1, 1, 1, 1, 1, 0, 1, 0, 0, 0, 0, 0, 0, 0, 0, 0, 0, 0, 0,\n",
              "       0, 0, 1, 1, 1, 1, 1, 1, 0, 1, 0, 1, 1, 0, 1, 1, 0, 1, 0, 0, 1, 1,\n",
              "       1, 1, 1, 1, 1, 1, 1, 1, 1, 1, 1, 0, 1, 1, 0, 1, 0, 1, 1, 1, 1, 1,\n",
              "       1, 1, 1, 1, 1, 1, 1, 1, 1, 0, 1, 1, 1, 0, 1, 0, 1, 1, 1, 1, 0, 0,\n",
              "       0, 1, 1, 1, 1, 0, 1, 0, 1, 0, 1, 1, 1, 0, 1, 1, 1, 1, 1, 1, 1, 0,\n",
              "       0, 0, 1, 1, 1, 1, 1, 1, 1, 1, 1, 1, 1, 0, 0, 1, 0, 0, 0, 1, 0, 0,\n",
              "       1, 1, 1, 1, 1, 0, 1, 1, 1, 1, 1, 0, 1, 1, 1, 0, 1, 1, 0, 0, 1, 1,\n",
              "       1, 1, 1, 1, 0, 1, 1, 1, 1, 1, 1, 1, 0, 1, 1, 1, 1, 1, 0, 1, 1, 0,\n",
              "       1, 1, 1, 1, 1, 1, 1, 1, 1, 1, 1, 1, 0, 1, 0, 0, 1, 0, 1, 1, 1, 1,\n",
              "       1, 0, 1, 1, 0, 1, 0, 1, 1, 0, 1, 0, 1, 1, 1, 1, 1, 1, 1, 1, 0, 0,\n",
              "       1, 1, 1, 1, 1, 1, 0, 1, 1, 1, 1, 1, 1, 1, 1, 1, 1, 0, 1, 1, 1, 1,\n",
              "       1, 1, 1, 0, 1, 0, 1, 1, 0, 1, 1, 1, 1, 1, 0, 0, 1, 0, 1, 0, 1, 1,\n",
              "       1, 1, 1, 0, 1, 1, 0, 1, 0, 1, 0, 0, 1, 1, 1, 0, 1, 1, 1, 1, 1, 1,\n",
              "       1, 1, 1, 1, 1, 0, 1, 0, 0, 1, 1, 1, 1, 1, 1, 1, 1, 1, 1, 1, 1, 1,\n",
              "       1, 1, 1, 1, 1, 1, 1, 1, 1, 1, 1, 1, 0, 0, 0, 0, 0, 0, 1])"
            ]
          },
          "metadata": {
            "tags": []
          },
          "execution_count": 13
        }
      ]
    },
    {
      "cell_type": "code",
      "metadata": {
        "id": "i_S3l6eF4D_R",
        "colab_type": "code",
        "colab": {
          "base_uri": "https://localhost:8080/",
          "height": 180
        },
        "outputId": "7a08c915-2097-4479-d0bd-9a3c391124fe"
      },
      "source": [
        "from sklearn.model_selection import train_test_split"
      ],
      "execution_count": 16,
      "outputs": [
        {
          "output_type": "error",
          "ename": "NameError",
          "evalue": "ignored",
          "traceback": [
            "\u001b[0;31m---------------------------------------------------------------------------\u001b[0m",
            "\u001b[0;31mNameError\u001b[0m                                 Traceback (most recent call last)",
            "\u001b[0;32m<ipython-input-16-dde27621403d>\u001b[0m in \u001b[0;36m<module>\u001b[0;34m()\u001b[0m\n\u001b[1;32m      1\u001b[0m \u001b[0;32mfrom\u001b[0m \u001b[0msklearn\u001b[0m\u001b[0;34m.\u001b[0m\u001b[0mmodel_selection\u001b[0m \u001b[0;32mimport\u001b[0m \u001b[0mtrain_test_split\u001b[0m\u001b[0;34m\u001b[0m\u001b[0;34m\u001b[0m\u001b[0m\n\u001b[0;32m----> 2\u001b[0;31m \u001b[0mX_train\u001b[0m\u001b[0;34m\u001b[0m\u001b[0;34m\u001b[0m\u001b[0m\n\u001b[0m",
            "\u001b[0;31mNameError\u001b[0m: name 'X_train' is not defined"
          ]
        }
      ]
    },
    {
      "cell_type": "code",
      "metadata": {
        "id": "J7u75iXYzYNG",
        "colab_type": "code",
        "colab": {}
      },
      "source": [
        "x = df_data\n",
        "y = cancer['target']\n",
        "X_train, X_test, y_train, y_test = train_test_split(x, y, test_size=0.30, random_state=20)"
      ],
      "execution_count": 0,
      "outputs": []
    },
    {
      "cell_type": "code",
      "metadata": {
        "id": "YfFCM_3pzb8d",
        "colab_type": "code",
        "colab": {}
      },
      "source": [
        "from sklearn.svm import SVC"
      ],
      "execution_count": 0,
      "outputs": []
    },
    {
      "cell_type": "code",
      "metadata": {
        "id": "vFLLwrKRzdG1",
        "colab_type": "code",
        "colab": {}
      },
      "source": [
        "model = SVC(gamma='auto')"
      ],
      "execution_count": 0,
      "outputs": []
    },
    {
      "cell_type": "code",
      "metadata": {
        "id": "I52_iIv9ze6t",
        "colab_type": "code",
        "colab": {
          "base_uri": "https://localhost:8080/",
          "height": 85
        },
        "outputId": "f3a6dadd-d40c-4053-f61d-17c5a97df1db"
      },
      "source": [
        "model.fit(X_train, y_train)"
      ],
      "execution_count": 22,
      "outputs": [
        {
          "output_type": "execute_result",
          "data": {
            "text/plain": [
              "SVC(C=1.0, break_ties=False, cache_size=200, class_weight=None, coef0=0.0,\n",
              "    decision_function_shape='ovr', degree=3, gamma='auto', kernel='rbf',\n",
              "    max_iter=-1, probability=False, random_state=None, shrinking=True,\n",
              "    tol=0.001, verbose=False)"
            ]
          },
          "metadata": {
            "tags": []
          },
          "execution_count": 22
        }
      ]
    },
    {
      "cell_type": "code",
      "metadata": {
        "id": "jcj-3virzgac",
        "colab_type": "code",
        "colab": {
          "base_uri": "https://localhost:8080/",
          "height": 153
        },
        "outputId": "8ea9eac7-45b9-4aad-ab3d-804922c1f598"
      },
      "source": [
        "predic = model.predict(X_test)\n",
        "predic"
      ],
      "execution_count": 26,
      "outputs": [
        {
          "output_type": "execute_result",
          "data": {
            "text/plain": [
              "array([1, 1, 1, 1, 1, 1, 1, 1, 1, 1, 1, 1, 1, 1, 1, 1, 1, 1, 1, 1, 1, 1,\n",
              "       1, 1, 1, 1, 1, 1, 1, 1, 1, 1, 1, 1, 1, 1, 1, 1, 1, 1, 1, 1, 1, 1,\n",
              "       1, 1, 1, 1, 1, 1, 1, 1, 1, 1, 1, 1, 1, 1, 1, 1, 1, 1, 1, 1, 1, 1,\n",
              "       1, 1, 1, 1, 1, 1, 1, 1, 1, 1, 1, 1, 1, 1, 1, 1, 1, 1, 1, 1, 1, 1,\n",
              "       1, 1, 1, 1, 1, 1, 1, 1, 1, 1, 1, 1, 1, 1, 1, 1, 1, 1, 1, 1, 1, 1,\n",
              "       1, 1, 1, 1, 1, 1, 1, 1, 1, 1, 1, 1, 1, 1, 1, 1, 1, 1, 1, 1, 1, 1,\n",
              "       1, 1, 1, 1, 1, 1, 1, 1, 1, 1, 1, 1, 1, 1, 1, 1, 1, 1, 1, 1, 1, 1,\n",
              "       1, 1, 1, 1, 1, 1, 1, 1, 1, 1, 1, 1, 1, 1, 1, 1, 1])"
            ]
          },
          "metadata": {
            "tags": []
          },
          "execution_count": 26
        }
      ]
    },
    {
      "cell_type": "code",
      "metadata": {
        "id": "AtFuxIyGziHN",
        "colab_type": "code",
        "colab": {}
      },
      "source": [
        "from sklearn.metrics import classification_report, confusion_matrix"
      ],
      "execution_count": 0,
      "outputs": []
    },
    {
      "cell_type": "code",
      "metadata": {
        "id": "13vfKVQE0AVF",
        "colab_type": "code",
        "colab": {
          "base_uri": "https://localhost:8080/",
          "height": 224
        },
        "outputId": "2ebe7550-8ea2-42d7-b639-742b9f86d193"
      },
      "source": [
        "print(classification_report(y_test, predic))"
      ],
      "execution_count": 30,
      "outputs": [
        {
          "output_type": "stream",
          "text": [
            "              precision    recall  f1-score   support\n",
            "\n",
            "           0       0.00      0.00      0.00        64\n",
            "           1       0.63      1.00      0.77       107\n",
            "\n",
            "    accuracy                           0.63       171\n",
            "   macro avg       0.31      0.50      0.38       171\n",
            "weighted avg       0.39      0.63      0.48       171\n",
            "\n"
          ],
          "name": "stdout"
        },
        {
          "output_type": "stream",
          "text": [
            "/usr/local/lib/python3.6/dist-packages/sklearn/metrics/_classification.py:1272: UndefinedMetricWarning: Precision and F-score are ill-defined and being set to 0.0 in labels with no predicted samples. Use `zero_division` parameter to control this behavior.\n",
            "  _warn_prf(average, modifier, msg_start, len(result))\n"
          ],
          "name": "stderr"
        }
      ]
    },
    {
      "cell_type": "code",
      "metadata": {
        "id": "DpbSCbZM0n8E",
        "colab_type": "code",
        "colab": {}
      },
      "source": [
        "from sklearn.model_selection import GridSearchCV"
      ],
      "execution_count": 0,
      "outputs": []
    },
    {
      "cell_type": "code",
      "metadata": {
        "id": "zOCwwcWT0-WU",
        "colab_type": "code",
        "colab": {}
      },
      "source": [
        "param_grid = {'C':[0.1,1,10,100,1000], 'gamma':[1,0.1,0.01,0.001,0.0001]}"
      ],
      "execution_count": 0,
      "outputs": []
    },
    {
      "cell_type": "code",
      "metadata": {
        "id": "sNJIMgkR1SOa",
        "colab_type": "code",
        "colab": {}
      },
      "source": [
        "grid = GridSearchCV(SVC(), param_grid, verbose=2)"
      ],
      "execution_count": 0,
      "outputs": []
    },
    {
      "cell_type": "code",
      "metadata": {
        "id": "5ATpGLMg1bCs",
        "colab_type": "code",
        "colab": {
          "base_uri": "https://localhost:8080/",
          "height": 1000
        },
        "outputId": "c44b3cb7-5e7f-4716-9f75-dc99563927ba"
      },
      "source": [
        "grid.fit(X_train, y_train)"
      ],
      "execution_count": 35,
      "outputs": [
        {
          "output_type": "stream",
          "text": [
            "Fitting 5 folds for each of 25 candidates, totalling 125 fits\n",
            "[CV] C=0.1, gamma=1 ..................................................\n",
            "[CV] ................................... C=0.1, gamma=1, total=   0.0s\n",
            "[CV] C=0.1, gamma=1 ..................................................\n",
            "[CV] ................................... C=0.1, gamma=1, total=   0.0s\n",
            "[CV] C=0.1, gamma=1 ..................................................\n",
            "[CV] ................................... C=0.1, gamma=1, total=   0.0s\n",
            "[CV] C=0.1, gamma=1 ..................................................\n",
            "[CV] ................................... C=0.1, gamma=1, total=   0.0s\n",
            "[CV] C=0.1, gamma=1 ..................................................\n",
            "[CV] ................................... C=0.1, gamma=1, total=   0.0s\n",
            "[CV] C=0.1, gamma=0.1 ................................................\n",
            "[CV] ................................. C=0.1, gamma=0.1, total=   0.0s\n",
            "[CV] C=0.1, gamma=0.1 ................................................\n",
            "[CV] ................................. C=0.1, gamma=0.1, total=   0.0s\n",
            "[CV] C=0.1, gamma=0.1 ................................................\n",
            "[CV] ................................. C=0.1, gamma=0.1, total=   0.0s\n",
            "[CV] C=0.1, gamma=0.1 ................................................\n",
            "[CV] ................................. C=0.1, gamma=0.1, total=   0.0s\n",
            "[CV] C=0.1, gamma=0.1 ................................................\n",
            "[CV] ................................. C=0.1, gamma=0.1, total=   0.0s\n",
            "[CV] C=0.1, gamma=0.01 ...............................................\n",
            "[CV] ................................ C=0.1, gamma=0.01, total=   0.0s\n",
            "[CV] C=0.1, gamma=0.01 ...............................................\n",
            "[CV] ................................ C=0.1, gamma=0.01, total=   0.0s\n",
            "[CV] C=0.1, gamma=0.01 ...............................................\n"
          ],
          "name": "stdout"
        },
        {
          "output_type": "stream",
          "text": [
            "[Parallel(n_jobs=1)]: Using backend SequentialBackend with 1 concurrent workers.\n",
            "[Parallel(n_jobs=1)]: Done   1 out of   1 | elapsed:    0.0s remaining:    0.0s\n"
          ],
          "name": "stderr"
        },
        {
          "output_type": "stream",
          "text": [
            "[CV] ................................ C=0.1, gamma=0.01, total=   0.0s\n",
            "[CV] C=0.1, gamma=0.01 ...............................................\n",
            "[CV] ................................ C=0.1, gamma=0.01, total=   0.0s\n",
            "[CV] C=0.1, gamma=0.01 ...............................................\n",
            "[CV] ................................ C=0.1, gamma=0.01, total=   0.0s\n",
            "[CV] C=0.1, gamma=0.001 ..............................................\n",
            "[CV] ............................... C=0.1, gamma=0.001, total=   0.0s\n",
            "[CV] C=0.1, gamma=0.001 ..............................................\n",
            "[CV] ............................... C=0.1, gamma=0.001, total=   0.0s\n",
            "[CV] C=0.1, gamma=0.001 ..............................................\n",
            "[CV] ............................... C=0.1, gamma=0.001, total=   0.0s\n",
            "[CV] C=0.1, gamma=0.001 ..............................................\n",
            "[CV] ............................... C=0.1, gamma=0.001, total=   0.0s\n",
            "[CV] C=0.1, gamma=0.001 ..............................................\n",
            "[CV] ............................... C=0.1, gamma=0.001, total=   0.0s\n",
            "[CV] C=0.1, gamma=0.0001 .............................................\n",
            "[CV] .............................. C=0.1, gamma=0.0001, total=   0.0s\n",
            "[CV] C=0.1, gamma=0.0001 .............................................\n",
            "[CV] .............................. C=0.1, gamma=0.0001, total=   0.0s\n",
            "[CV] C=0.1, gamma=0.0001 .............................................\n",
            "[CV] .............................. C=0.1, gamma=0.0001, total=   0.0s\n",
            "[CV] C=0.1, gamma=0.0001 .............................................\n",
            "[CV] .............................. C=0.1, gamma=0.0001, total=   0.0s\n",
            "[CV] C=0.1, gamma=0.0001 .............................................\n",
            "[CV] .............................. C=0.1, gamma=0.0001, total=   0.0s\n",
            "[CV] C=1, gamma=1 ....................................................\n",
            "[CV] ..................................... C=1, gamma=1, total=   0.0s\n",
            "[CV] C=1, gamma=1 ....................................................\n",
            "[CV] ..................................... C=1, gamma=1, total=   0.0s\n",
            "[CV] C=1, gamma=1 ....................................................\n",
            "[CV] ..................................... C=1, gamma=1, total=   0.0s\n",
            "[CV] C=1, gamma=1 ....................................................\n",
            "[CV] ..................................... C=1, gamma=1, total=   0.0s\n",
            "[CV] C=1, gamma=1 ....................................................\n",
            "[CV] ..................................... C=1, gamma=1, total=   0.0s\n",
            "[CV] C=1, gamma=0.1 ..................................................\n",
            "[CV] ................................... C=1, gamma=0.1, total=   0.0s\n",
            "[CV] C=1, gamma=0.1 ..................................................\n",
            "[CV] ................................... C=1, gamma=0.1, total=   0.0s\n",
            "[CV] C=1, gamma=0.1 ..................................................\n",
            "[CV] ................................... C=1, gamma=0.1, total=   0.0s\n",
            "[CV] C=1, gamma=0.1 ..................................................\n",
            "[CV] ................................... C=1, gamma=0.1, total=   0.0s\n",
            "[CV] C=1, gamma=0.1 ..................................................\n",
            "[CV] ................................... C=1, gamma=0.1, total=   0.0s\n",
            "[CV] C=1, gamma=0.01 .................................................\n",
            "[CV] .................................. C=1, gamma=0.01, total=   0.0s\n",
            "[CV] C=1, gamma=0.01 .................................................\n",
            "[CV] .................................. C=1, gamma=0.01, total=   0.0s\n",
            "[CV] C=1, gamma=0.01 .................................................\n",
            "[CV] .................................. C=1, gamma=0.01, total=   0.0s\n",
            "[CV] C=1, gamma=0.01 .................................................\n",
            "[CV] .................................. C=1, gamma=0.01, total=   0.0s\n",
            "[CV] C=1, gamma=0.01 .................................................\n",
            "[CV] .................................. C=1, gamma=0.01, total=   0.0s\n",
            "[CV] C=1, gamma=0.001 ................................................\n",
            "[CV] ................................. C=1, gamma=0.001, total=   0.0s\n",
            "[CV] C=1, gamma=0.001 ................................................\n",
            "[CV] ................................. C=1, gamma=0.001, total=   0.0s\n",
            "[CV] C=1, gamma=0.001 ................................................\n",
            "[CV] ................................. C=1, gamma=0.001, total=   0.0s\n",
            "[CV] C=1, gamma=0.001 ................................................\n",
            "[CV] ................................. C=1, gamma=0.001, total=   0.0s\n",
            "[CV] C=1, gamma=0.001 ................................................\n",
            "[CV] ................................. C=1, gamma=0.001, total=   0.0s\n",
            "[CV] C=1, gamma=0.0001 ...............................................\n",
            "[CV] ................................ C=1, gamma=0.0001, total=   0.0s\n",
            "[CV] C=1, gamma=0.0001 ...............................................\n",
            "[CV] ................................ C=1, gamma=0.0001, total=   0.0s\n",
            "[CV] C=1, gamma=0.0001 ...............................................\n",
            "[CV] ................................ C=1, gamma=0.0001, total=   0.0s\n",
            "[CV] C=1, gamma=0.0001 ...............................................\n",
            "[CV] ................................ C=1, gamma=0.0001, total=   0.0s\n",
            "[CV] C=1, gamma=0.0001 ...............................................\n",
            "[CV] ................................ C=1, gamma=0.0001, total=   0.0s\n",
            "[CV] C=10, gamma=1 ...................................................\n",
            "[CV] .................................... C=10, gamma=1, total=   0.0s\n",
            "[CV] C=10, gamma=1 ...................................................\n",
            "[CV] .................................... C=10, gamma=1, total=   0.0s\n",
            "[CV] C=10, gamma=1 ...................................................\n",
            "[CV] .................................... C=10, gamma=1, total=   0.0s\n",
            "[CV] C=10, gamma=1 ...................................................\n",
            "[CV] .................................... C=10, gamma=1, total=   0.0s\n",
            "[CV] C=10, gamma=1 ...................................................\n",
            "[CV] .................................... C=10, gamma=1, total=   0.0s\n",
            "[CV] C=10, gamma=0.1 .................................................\n",
            "[CV] .................................. C=10, gamma=0.1, total=   0.0s\n",
            "[CV] C=10, gamma=0.1 .................................................\n",
            "[CV] .................................. C=10, gamma=0.1, total=   0.0s\n",
            "[CV] C=10, gamma=0.1 .................................................\n",
            "[CV] .................................. C=10, gamma=0.1, total=   0.0s\n",
            "[CV] C=10, gamma=0.1 .................................................\n",
            "[CV] .................................. C=10, gamma=0.1, total=   0.0s\n",
            "[CV] C=10, gamma=0.1 .................................................\n",
            "[CV] .................................. C=10, gamma=0.1, total=   0.0s\n",
            "[CV] C=10, gamma=0.01 ................................................\n",
            "[CV] ................................. C=10, gamma=0.01, total=   0.0s\n",
            "[CV] C=10, gamma=0.01 ................................................\n",
            "[CV] ................................. C=10, gamma=0.01, total=   0.0s\n",
            "[CV] C=10, gamma=0.01 ................................................\n",
            "[CV] ................................. C=10, gamma=0.01, total=   0.0s\n",
            "[CV] C=10, gamma=0.01 ................................................\n",
            "[CV] ................................. C=10, gamma=0.01, total=   0.0s\n",
            "[CV] C=10, gamma=0.01 ................................................\n",
            "[CV] ................................. C=10, gamma=0.01, total=   0.0s\n",
            "[CV] C=10, gamma=0.001 ...............................................\n",
            "[CV] ................................ C=10, gamma=0.001, total=   0.0s\n",
            "[CV] C=10, gamma=0.001 ...............................................\n",
            "[CV] ................................ C=10, gamma=0.001, total=   0.0s\n",
            "[CV] C=10, gamma=0.001 ...............................................\n",
            "[CV] ................................ C=10, gamma=0.001, total=   0.0s\n",
            "[CV] C=10, gamma=0.001 ...............................................\n",
            "[CV] ................................ C=10, gamma=0.001, total=   0.0s\n",
            "[CV] C=10, gamma=0.001 ...............................................\n",
            "[CV] ................................ C=10, gamma=0.001, total=   0.0s\n",
            "[CV] C=10, gamma=0.0001 ..............................................\n",
            "[CV] ............................... C=10, gamma=0.0001, total=   0.0s\n",
            "[CV] C=10, gamma=0.0001 ..............................................\n",
            "[CV] ............................... C=10, gamma=0.0001, total=   0.0s\n",
            "[CV] C=10, gamma=0.0001 ..............................................\n",
            "[CV] ............................... C=10, gamma=0.0001, total=   0.0s\n",
            "[CV] C=10, gamma=0.0001 ..............................................\n",
            "[CV] ............................... C=10, gamma=0.0001, total=   0.0s\n",
            "[CV] C=10, gamma=0.0001 ..............................................\n",
            "[CV] ............................... C=10, gamma=0.0001, total=   0.0s\n",
            "[CV] C=100, gamma=1 ..................................................\n",
            "[CV] ................................... C=100, gamma=1, total=   0.0s\n",
            "[CV] C=100, gamma=1 ..................................................\n",
            "[CV] ................................... C=100, gamma=1, total=   0.0s\n",
            "[CV] C=100, gamma=1 ..................................................\n",
            "[CV] ................................... C=100, gamma=1, total=   0.0s\n",
            "[CV] C=100, gamma=1 ..................................................\n",
            "[CV] ................................... C=100, gamma=1, total=   0.0s\n",
            "[CV] C=100, gamma=1 ..................................................\n",
            "[CV] ................................... C=100, gamma=1, total=   0.0s\n",
            "[CV] C=100, gamma=0.1 ................................................\n",
            "[CV] ................................. C=100, gamma=0.1, total=   0.0s\n",
            "[CV] C=100, gamma=0.1 ................................................\n",
            "[CV] ................................. C=100, gamma=0.1, total=   0.0s\n",
            "[CV] C=100, gamma=0.1 ................................................\n",
            "[CV] ................................. C=100, gamma=0.1, total=   0.0s\n",
            "[CV] C=100, gamma=0.1 ................................................\n",
            "[CV] ................................. C=100, gamma=0.1, total=   0.0s\n",
            "[CV] C=100, gamma=0.1 ................................................\n",
            "[CV] ................................. C=100, gamma=0.1, total=   0.0s\n",
            "[CV] C=100, gamma=0.01 ...............................................\n",
            "[CV] ................................ C=100, gamma=0.01, total=   0.0s\n",
            "[CV] C=100, gamma=0.01 ...............................................\n",
            "[CV] ................................ C=100, gamma=0.01, total=   0.0s\n",
            "[CV] C=100, gamma=0.01 ...............................................\n",
            "[CV] ................................ C=100, gamma=0.01, total=   0.0s\n",
            "[CV] C=100, gamma=0.01 ...............................................\n",
            "[CV] ................................ C=100, gamma=0.01, total=   0.0s\n",
            "[CV] C=100, gamma=0.01 ...............................................\n",
            "[CV] ................................ C=100, gamma=0.01, total=   0.0s\n",
            "[CV] C=100, gamma=0.001 ..............................................\n",
            "[CV] ............................... C=100, gamma=0.001, total=   0.0s\n",
            "[CV] C=100, gamma=0.001 ..............................................\n",
            "[CV] ............................... C=100, gamma=0.001, total=   0.0s\n",
            "[CV] C=100, gamma=0.001 ..............................................\n",
            "[CV] ............................... C=100, gamma=0.001, total=   0.0s\n",
            "[CV] C=100, gamma=0.001 ..............................................\n",
            "[CV] ............................... C=100, gamma=0.001, total=   0.0s\n",
            "[CV] C=100, gamma=0.001 ..............................................\n",
            "[CV] ............................... C=100, gamma=0.001, total=   0.0s\n",
            "[CV] C=100, gamma=0.0001 .............................................\n",
            "[CV] .............................. C=100, gamma=0.0001, total=   0.0s\n",
            "[CV] C=100, gamma=0.0001 .............................................\n",
            "[CV] .............................. C=100, gamma=0.0001, total=   0.0s\n",
            "[CV] C=100, gamma=0.0001 .............................................\n",
            "[CV] .............................. C=100, gamma=0.0001, total=   0.0s\n",
            "[CV] C=100, gamma=0.0001 .............................................\n",
            "[CV] .............................. C=100, gamma=0.0001, total=   0.0s\n",
            "[CV] C=100, gamma=0.0001 .............................................\n",
            "[CV] .............................. C=100, gamma=0.0001, total=   0.0s\n",
            "[CV] C=1000, gamma=1 .................................................\n",
            "[CV] .................................. C=1000, gamma=1, total=   0.0s\n",
            "[CV] C=1000, gamma=1 .................................................\n",
            "[CV] .................................. C=1000, gamma=1, total=   0.0s\n",
            "[CV] C=1000, gamma=1 .................................................\n",
            "[CV] .................................. C=1000, gamma=1, total=   0.0s\n",
            "[CV] C=1000, gamma=1 .................................................\n",
            "[CV] .................................. C=1000, gamma=1, total=   0.0s\n",
            "[CV] C=1000, gamma=1 .................................................\n",
            "[CV] .................................. C=1000, gamma=1, total=   0.0s\n",
            "[CV] C=1000, gamma=0.1 ...............................................\n",
            "[CV] ................................ C=1000, gamma=0.1, total=   0.0s\n",
            "[CV] C=1000, gamma=0.1 ...............................................\n",
            "[CV] ................................ C=1000, gamma=0.1, total=   0.0s\n",
            "[CV] C=1000, gamma=0.1 ...............................................\n",
            "[CV] ................................ C=1000, gamma=0.1, total=   0.0s\n",
            "[CV] C=1000, gamma=0.1 ...............................................\n",
            "[CV] ................................ C=1000, gamma=0.1, total=   0.0s\n",
            "[CV] C=1000, gamma=0.1 ...............................................\n",
            "[CV] ................................ C=1000, gamma=0.1, total=   0.0s\n",
            "[CV] C=1000, gamma=0.01 ..............................................\n",
            "[CV] ............................... C=1000, gamma=0.01, total=   0.0s\n",
            "[CV] C=1000, gamma=0.01 ..............................................\n",
            "[CV] ............................... C=1000, gamma=0.01, total=   0.0s\n",
            "[CV] C=1000, gamma=0.01 ..............................................\n",
            "[CV] ............................... C=1000, gamma=0.01, total=   0.0s\n",
            "[CV] C=1000, gamma=0.01 ..............................................\n",
            "[CV] ............................... C=1000, gamma=0.01, total=   0.0s\n",
            "[CV] C=1000, gamma=0.01 ..............................................\n",
            "[CV] ............................... C=1000, gamma=0.01, total=   0.0s\n",
            "[CV] C=1000, gamma=0.001 .............................................\n",
            "[CV] .............................. C=1000, gamma=0.001, total=   0.0s\n",
            "[CV] C=1000, gamma=0.001 .............................................\n",
            "[CV] .............................. C=1000, gamma=0.001, total=   0.0s\n",
            "[CV] C=1000, gamma=0.001 .............................................\n",
            "[CV] .............................. C=1000, gamma=0.001, total=   0.0s\n",
            "[CV] C=1000, gamma=0.001 .............................................\n",
            "[CV] .............................. C=1000, gamma=0.001, total=   0.0s\n",
            "[CV] C=1000, gamma=0.001 .............................................\n",
            "[CV] .............................. C=1000, gamma=0.001, total=   0.0s\n",
            "[CV] C=1000, gamma=0.0001 ............................................\n",
            "[CV] ............................. C=1000, gamma=0.0001, total=   0.0s\n",
            "[CV] C=1000, gamma=0.0001 ............................................\n",
            "[CV] ............................. C=1000, gamma=0.0001, total=   0.0s\n",
            "[CV] C=1000, gamma=0.0001 ............................................\n",
            "[CV] ............................. C=1000, gamma=0.0001, total=   0.0s\n",
            "[CV] C=1000, gamma=0.0001 ............................................\n",
            "[CV] ............................. C=1000, gamma=0.0001, total=   0.0s\n",
            "[CV] C=1000, gamma=0.0001 ............................................\n",
            "[CV] ............................. C=1000, gamma=0.0001, total=   0.0s\n"
          ],
          "name": "stdout"
        },
        {
          "output_type": "stream",
          "text": [
            "[Parallel(n_jobs=1)]: Done 125 out of 125 | elapsed:    1.8s finished\n"
          ],
          "name": "stderr"
        },
        {
          "output_type": "execute_result",
          "data": {
            "text/plain": [
              "GridSearchCV(cv=None, error_score=nan,\n",
              "             estimator=SVC(C=1.0, break_ties=False, cache_size=200,\n",
              "                           class_weight=None, coef0=0.0,\n",
              "                           decision_function_shape='ovr', degree=3,\n",
              "                           gamma='scale', kernel='rbf', max_iter=-1,\n",
              "                           probability=False, random_state=None, shrinking=True,\n",
              "                           tol=0.001, verbose=False),\n",
              "             iid='deprecated', n_jobs=None,\n",
              "             param_grid={'C': [0.1, 1, 10, 100, 1000],\n",
              "                         'gamma': [1, 0.1, 0.01, 0.001, 0.0001]},\n",
              "             pre_dispatch='2*n_jobs', refit=True, return_train_score=False,\n",
              "             scoring=None, verbose=2)"
            ]
          },
          "metadata": {
            "tags": []
          },
          "execution_count": 35
        }
      ]
    },
    {
      "cell_type": "code",
      "metadata": {
        "id": "xvr29mXx10M9",
        "colab_type": "code",
        "colab": {
          "base_uri": "https://localhost:8080/",
          "height": 34
        },
        "outputId": "79edc102-ada4-46ed-afb2-86066b89e57a"
      },
      "source": [
        "grid.best_params_"
      ],
      "execution_count": 36,
      "outputs": [
        {
          "output_type": "execute_result",
          "data": {
            "text/plain": [
              "{'C': 1, 'gamma': 0.0001}"
            ]
          },
          "metadata": {
            "tags": []
          },
          "execution_count": 36
        }
      ]
    },
    {
      "cell_type": "code",
      "metadata": {
        "id": "QX-na9ez38L0",
        "colab_type": "code",
        "colab": {
          "base_uri": "https://localhost:8080/",
          "height": 85
        },
        "outputId": "57f53772-e968-4bc0-cb5a-e00328f82174"
      },
      "source": [
        "grid.best_estimator_"
      ],
      "execution_count": 37,
      "outputs": [
        {
          "output_type": "execute_result",
          "data": {
            "text/plain": [
              "SVC(C=1, break_ties=False, cache_size=200, class_weight=None, coef0=0.0,\n",
              "    decision_function_shape='ovr', degree=3, gamma=0.0001, kernel='rbf',\n",
              "    max_iter=-1, probability=False, random_state=None, shrinking=True,\n",
              "    tol=0.001, verbose=False)"
            ]
          },
          "metadata": {
            "tags": []
          },
          "execution_count": 37
        }
      ]
    },
    {
      "cell_type": "code",
      "metadata": {
        "id": "cXWM5R-w5okf",
        "colab_type": "code",
        "colab": {}
      },
      "source": [
        "grid_predictions = grid.predict(X_test)"
      ],
      "execution_count": 0,
      "outputs": []
    },
    {
      "cell_type": "code",
      "metadata": {
        "id": "sDTOaLB75axd",
        "colab_type": "code",
        "colab": {
          "base_uri": "https://localhost:8080/",
          "height": 238
        },
        "outputId": "a39788ec-ad84-4ff1-b11b-eee27f185ae3"
      },
      "source": [
        "print(confusion_matrix(y_test,grid_predictions))\n",
        "print('\\n')\n",
        "print(classification_report(y_test,grid_predictions))"
      ],
      "execution_count": 41,
      "outputs": [
        {
          "output_type": "stream",
          "text": [
            "[[ 58   6]\n",
            " [  5 102]]\n",
            "\n",
            "\n",
            "              precision    recall  f1-score   support\n",
            "\n",
            "           0       0.92      0.91      0.91        64\n",
            "           1       0.94      0.95      0.95       107\n",
            "\n",
            "    accuracy                           0.94       171\n",
            "   macro avg       0.93      0.93      0.93       171\n",
            "weighted avg       0.94      0.94      0.94       171\n",
            "\n"
          ],
          "name": "stdout"
        }
      ]
    }
  ]
}