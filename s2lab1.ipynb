{
  "nbformat": 4,
  "nbformat_minor": 0,
  "metadata": {
    "colab": {
      "name": "s2lab1.ipynb",
      "provenance": [],
      "authorship_tag": "ABX9TyPQX4JZaWlfPCYdAOnWwaZ/",
      "include_colab_link": true
    },
    "kernelspec": {
      "name": "python3",
      "display_name": "Python 3"
    }
  },
  "cells": [
    {
      "cell_type": "markdown",
      "metadata": {
        "id": "view-in-github",
        "colab_type": "text"
      },
      "source": [
        "<a href=\"https://colab.research.google.com/github/p-cuadros/curso_python/blob/master/s2lab1.ipynb\" target=\"_parent\"><img src=\"https://colab.research.google.com/assets/colab-badge.svg\" alt=\"Open In Colab\"/></a>"
      ]
    },
    {
      "cell_type": "code",
      "metadata": {
        "id": "cD4mIPzdAxxZ",
        "colab_type": "code",
        "colab": {}
      },
      "source": [
        "import numpy as np\n",
        "import pandas as pd"
      ],
      "execution_count": 0,
      "outputs": []
    },
    {
      "cell_type": "code",
      "metadata": {
        "id": "sYMm_QOQBSVS",
        "colab_type": "code",
        "colab": {}
      },
      "source": [
        "from numpy.random import rand"
      ],
      "execution_count": 0,
      "outputs": []
    },
    {
      "cell_type": "code",
      "metadata": {
        "id": "a9Ad4YO-ANdy",
        "colab_type": "code",
        "colab": {}
      },
      "source": [
        "np.random.seed(101)"
      ],
      "execution_count": 0,
      "outputs": []
    },
    {
      "cell_type": "code",
      "metadata": {
        "id": "WErdvS6kARfy",
        "colab_type": "code",
        "colab": {}
      },
      "source": [
        "df = pd.DataFrame( rand(5,4), [\"F1\",\"F2\",\"F3\",\"F4\",\"F5\"],[\"C1\",\"C2\",\"C3\",\"C4\"])"
      ],
      "execution_count": 0,
      "outputs": []
    },
    {
      "cell_type": "code",
      "metadata": {
        "id": "D7ue6gPDAm_B",
        "colab_type": "code",
        "outputId": "f8b3c179-7e88-4e7b-bae6-86f5cf7b33df",
        "colab": {
          "base_uri": "https://localhost:8080/",
          "height": 204
        }
      },
      "source": [
        "df"
      ],
      "execution_count": 0,
      "outputs": [
        {
          "output_type": "execute_result",
          "data": {
            "text/html": [
              "<div>\n",
              "<style scoped>\n",
              "    .dataframe tbody tr th:only-of-type {\n",
              "        vertical-align: middle;\n",
              "    }\n",
              "\n",
              "    .dataframe tbody tr th {\n",
              "        vertical-align: top;\n",
              "    }\n",
              "\n",
              "    .dataframe thead th {\n",
              "        text-align: right;\n",
              "    }\n",
              "</style>\n",
              "<table border=\"1\" class=\"dataframe\">\n",
              "  <thead>\n",
              "    <tr style=\"text-align: right;\">\n",
              "      <th></th>\n",
              "      <th>C1</th>\n",
              "      <th>C2</th>\n",
              "      <th>C3</th>\n",
              "      <th>C4</th>\n",
              "    </tr>\n",
              "  </thead>\n",
              "  <tbody>\n",
              "    <tr>\n",
              "      <th>F1</th>\n",
              "      <td>0.685306</td>\n",
              "      <td>0.517867</td>\n",
              "      <td>0.048485</td>\n",
              "      <td>0.137869</td>\n",
              "    </tr>\n",
              "    <tr>\n",
              "      <th>F2</th>\n",
              "      <td>0.186967</td>\n",
              "      <td>0.994318</td>\n",
              "      <td>0.520665</td>\n",
              "      <td>0.578790</td>\n",
              "    </tr>\n",
              "    <tr>\n",
              "      <th>F3</th>\n",
              "      <td>0.734819</td>\n",
              "      <td>0.541962</td>\n",
              "      <td>0.913154</td>\n",
              "      <td>0.807920</td>\n",
              "    </tr>\n",
              "    <tr>\n",
              "      <th>F4</th>\n",
              "      <td>0.402998</td>\n",
              "      <td>0.357224</td>\n",
              "      <td>0.952877</td>\n",
              "      <td>0.343632</td>\n",
              "    </tr>\n",
              "    <tr>\n",
              "      <th>F5</th>\n",
              "      <td>0.865100</td>\n",
              "      <td>0.830278</td>\n",
              "      <td>0.538161</td>\n",
              "      <td>0.922469</td>\n",
              "    </tr>\n",
              "  </tbody>\n",
              "</table>\n",
              "</div>"
            ],
            "text/plain": [
              "          C1        C2        C3        C4\n",
              "F1  0.685306  0.517867  0.048485  0.137869\n",
              "F2  0.186967  0.994318  0.520665  0.578790\n",
              "F3  0.734819  0.541962  0.913154  0.807920\n",
              "F4  0.402998  0.357224  0.952877  0.343632\n",
              "F5  0.865100  0.830278  0.538161  0.922469"
            ]
          },
          "metadata": {
            "tags": []
          },
          "execution_count": 9
        }
      ]
    },
    {
      "cell_type": "code",
      "metadata": {
        "id": "2zGDQ76ABl6Z",
        "colab_type": "code",
        "outputId": "8b51d6fd-71c5-43e7-c67c-454e70b4bfd8",
        "colab": {
          "base_uri": "https://localhost:8080/",
          "height": 204
        }
      },
      "source": [
        "df[['C1','C2']]"
      ],
      "execution_count": 0,
      "outputs": [
        {
          "output_type": "execute_result",
          "data": {
            "text/html": [
              "<div>\n",
              "<style scoped>\n",
              "    .dataframe tbody tr th:only-of-type {\n",
              "        vertical-align: middle;\n",
              "    }\n",
              "\n",
              "    .dataframe tbody tr th {\n",
              "        vertical-align: top;\n",
              "    }\n",
              "\n",
              "    .dataframe thead th {\n",
              "        text-align: right;\n",
              "    }\n",
              "</style>\n",
              "<table border=\"1\" class=\"dataframe\">\n",
              "  <thead>\n",
              "    <tr style=\"text-align: right;\">\n",
              "      <th></th>\n",
              "      <th>C1</th>\n",
              "      <th>C2</th>\n",
              "    </tr>\n",
              "  </thead>\n",
              "  <tbody>\n",
              "    <tr>\n",
              "      <th>F1</th>\n",
              "      <td>0.685306</td>\n",
              "      <td>0.517867</td>\n",
              "    </tr>\n",
              "    <tr>\n",
              "      <th>F2</th>\n",
              "      <td>0.186967</td>\n",
              "      <td>0.994318</td>\n",
              "    </tr>\n",
              "    <tr>\n",
              "      <th>F3</th>\n",
              "      <td>0.734819</td>\n",
              "      <td>0.541962</td>\n",
              "    </tr>\n",
              "    <tr>\n",
              "      <th>F4</th>\n",
              "      <td>0.402998</td>\n",
              "      <td>0.357224</td>\n",
              "    </tr>\n",
              "    <tr>\n",
              "      <th>F5</th>\n",
              "      <td>0.865100</td>\n",
              "      <td>0.830278</td>\n",
              "    </tr>\n",
              "  </tbody>\n",
              "</table>\n",
              "</div>"
            ],
            "text/plain": [
              "          C1        C2\n",
              "F1  0.685306  0.517867\n",
              "F2  0.186967  0.994318\n",
              "F3  0.734819  0.541962\n",
              "F4  0.402998  0.357224\n",
              "F5  0.865100  0.830278"
            ]
          },
          "metadata": {
            "tags": []
          },
          "execution_count": 10
        }
      ]
    },
    {
      "cell_type": "code",
      "metadata": {
        "id": "QXeuM4VtCXAx",
        "colab_type": "code",
        "colab": {}
      },
      "source": [
        "df['C5'] = df['C3'] + df['C4']"
      ],
      "execution_count": 0,
      "outputs": []
    },
    {
      "cell_type": "code",
      "metadata": {
        "id": "0vHGsO5jCtc5",
        "colab_type": "code",
        "outputId": "db0c0c79-90ad-4ae0-be16-8e9b61f937bb",
        "colab": {
          "base_uri": "https://localhost:8080/",
          "height": 204
        }
      },
      "source": [
        "df"
      ],
      "execution_count": 0,
      "outputs": [
        {
          "output_type": "execute_result",
          "data": {
            "text/html": [
              "<div>\n",
              "<style scoped>\n",
              "    .dataframe tbody tr th:only-of-type {\n",
              "        vertical-align: middle;\n",
              "    }\n",
              "\n",
              "    .dataframe tbody tr th {\n",
              "        vertical-align: top;\n",
              "    }\n",
              "\n",
              "    .dataframe thead th {\n",
              "        text-align: right;\n",
              "    }\n",
              "</style>\n",
              "<table border=\"1\" class=\"dataframe\">\n",
              "  <thead>\n",
              "    <tr style=\"text-align: right;\">\n",
              "      <th></th>\n",
              "      <th>C1</th>\n",
              "      <th>C2</th>\n",
              "      <th>C3</th>\n",
              "      <th>C4</th>\n",
              "      <th>C5</th>\n",
              "    </tr>\n",
              "  </thead>\n",
              "  <tbody>\n",
              "    <tr>\n",
              "      <th>F1</th>\n",
              "      <td>0.685306</td>\n",
              "      <td>0.517867</td>\n",
              "      <td>0.048485</td>\n",
              "      <td>0.137869</td>\n",
              "      <td>0.186354</td>\n",
              "    </tr>\n",
              "    <tr>\n",
              "      <th>F2</th>\n",
              "      <td>0.186967</td>\n",
              "      <td>0.994318</td>\n",
              "      <td>0.520665</td>\n",
              "      <td>0.578790</td>\n",
              "      <td>1.099455</td>\n",
              "    </tr>\n",
              "    <tr>\n",
              "      <th>F3</th>\n",
              "      <td>0.734819</td>\n",
              "      <td>0.541962</td>\n",
              "      <td>0.913154</td>\n",
              "      <td>0.807920</td>\n",
              "      <td>1.721074</td>\n",
              "    </tr>\n",
              "    <tr>\n",
              "      <th>F4</th>\n",
              "      <td>0.402998</td>\n",
              "      <td>0.357224</td>\n",
              "      <td>0.952877</td>\n",
              "      <td>0.343632</td>\n",
              "      <td>1.296508</td>\n",
              "    </tr>\n",
              "    <tr>\n",
              "      <th>F5</th>\n",
              "      <td>0.865100</td>\n",
              "      <td>0.830278</td>\n",
              "      <td>0.538161</td>\n",
              "      <td>0.922469</td>\n",
              "      <td>1.460631</td>\n",
              "    </tr>\n",
              "  </tbody>\n",
              "</table>\n",
              "</div>"
            ],
            "text/plain": [
              "          C1        C2        C3        C4        C5\n",
              "F1  0.685306  0.517867  0.048485  0.137869  0.186354\n",
              "F2  0.186967  0.994318  0.520665  0.578790  1.099455\n",
              "F3  0.734819  0.541962  0.913154  0.807920  1.721074\n",
              "F4  0.402998  0.357224  0.952877  0.343632  1.296508\n",
              "F5  0.865100  0.830278  0.538161  0.922469  1.460631"
            ]
          },
          "metadata": {
            "tags": []
          },
          "execution_count": 12
        }
      ]
    },
    {
      "cell_type": "code",
      "metadata": {
        "id": "QIDfRboWCuGJ",
        "colab_type": "code",
        "colab": {}
      },
      "source": [
        "#df.drop('C5')\n",
        "#df.drop('C5',axis=1)\n",
        "df.drop('C5',axis=1, inplace=True)"
      ],
      "execution_count": 0,
      "outputs": []
    },
    {
      "cell_type": "code",
      "metadata": {
        "id": "h1rJTzmADbfs",
        "colab_type": "code",
        "outputId": "8a4dab20-c3c8-416c-e786-c36dbc8dfad9",
        "colab": {
          "base_uri": "https://localhost:8080/",
          "height": 204
        }
      },
      "source": [
        "df"
      ],
      "execution_count": 0,
      "outputs": [
        {
          "output_type": "execute_result",
          "data": {
            "text/html": [
              "<div>\n",
              "<style scoped>\n",
              "    .dataframe tbody tr th:only-of-type {\n",
              "        vertical-align: middle;\n",
              "    }\n",
              "\n",
              "    .dataframe tbody tr th {\n",
              "        vertical-align: top;\n",
              "    }\n",
              "\n",
              "    .dataframe thead th {\n",
              "        text-align: right;\n",
              "    }\n",
              "</style>\n",
              "<table border=\"1\" class=\"dataframe\">\n",
              "  <thead>\n",
              "    <tr style=\"text-align: right;\">\n",
              "      <th></th>\n",
              "      <th>C1</th>\n",
              "      <th>C2</th>\n",
              "      <th>C3</th>\n",
              "      <th>C4</th>\n",
              "    </tr>\n",
              "  </thead>\n",
              "  <tbody>\n",
              "    <tr>\n",
              "      <th>F1</th>\n",
              "      <td>0.685306</td>\n",
              "      <td>0.517867</td>\n",
              "      <td>0.048485</td>\n",
              "      <td>0.137869</td>\n",
              "    </tr>\n",
              "    <tr>\n",
              "      <th>F2</th>\n",
              "      <td>0.186967</td>\n",
              "      <td>0.994318</td>\n",
              "      <td>0.520665</td>\n",
              "      <td>0.578790</td>\n",
              "    </tr>\n",
              "    <tr>\n",
              "      <th>F3</th>\n",
              "      <td>0.734819</td>\n",
              "      <td>0.541962</td>\n",
              "      <td>0.913154</td>\n",
              "      <td>0.807920</td>\n",
              "    </tr>\n",
              "    <tr>\n",
              "      <th>F4</th>\n",
              "      <td>0.402998</td>\n",
              "      <td>0.357224</td>\n",
              "      <td>0.952877</td>\n",
              "      <td>0.343632</td>\n",
              "    </tr>\n",
              "    <tr>\n",
              "      <th>F5</th>\n",
              "      <td>0.865100</td>\n",
              "      <td>0.830278</td>\n",
              "      <td>0.538161</td>\n",
              "      <td>0.922469</td>\n",
              "    </tr>\n",
              "  </tbody>\n",
              "</table>\n",
              "</div>"
            ],
            "text/plain": [
              "          C1        C2        C3        C4\n",
              "F1  0.685306  0.517867  0.048485  0.137869\n",
              "F2  0.186967  0.994318  0.520665  0.578790\n",
              "F3  0.734819  0.541962  0.913154  0.807920\n",
              "F4  0.402998  0.357224  0.952877  0.343632\n",
              "F5  0.865100  0.830278  0.538161  0.922469"
            ]
          },
          "metadata": {
            "tags": []
          },
          "execution_count": 17
        }
      ]
    },
    {
      "cell_type": "code",
      "metadata": {
        "id": "UWtV-PGcD3op",
        "colab_type": "code",
        "outputId": "8bea2eb6-393b-43d1-b002-397e0b5d19d2",
        "colab": {
          "base_uri": "https://localhost:8080/",
          "height": 34
        }
      },
      "source": [
        "df.shape"
      ],
      "execution_count": 0,
      "outputs": [
        {
          "output_type": "execute_result",
          "data": {
            "text/plain": [
              "(5, 4)"
            ]
          },
          "metadata": {
            "tags": []
          },
          "execution_count": 18
        }
      ]
    },
    {
      "cell_type": "code",
      "metadata": {
        "id": "WPYyTqqlE4Wq",
        "colab_type": "code",
        "outputId": "ac234ee8-e056-40d1-83d6-87f4b2bd70b1",
        "colab": {
          "base_uri": "https://localhost:8080/",
          "height": 102
        }
      },
      "source": [
        "df.loc['F1']"
      ],
      "execution_count": 0,
      "outputs": [
        {
          "output_type": "execute_result",
          "data": {
            "text/plain": [
              "C1    0.685306\n",
              "C2    0.517867\n",
              "C3    0.048485\n",
              "C4    0.137869\n",
              "Name: F1, dtype: float64"
            ]
          },
          "metadata": {
            "tags": []
          },
          "execution_count": 19
        }
      ]
    },
    {
      "cell_type": "code",
      "metadata": {
        "id": "5ZceFJxyE8eB",
        "colab_type": "code",
        "outputId": "2269992c-85ab-47ee-ee69-1e9bdee42d4d",
        "colab": {
          "base_uri": "https://localhost:8080/",
          "height": 142
        }
      },
      "source": [
        "df.loc['F1':'F3']"
      ],
      "execution_count": 0,
      "outputs": [
        {
          "output_type": "execute_result",
          "data": {
            "text/html": [
              "<div>\n",
              "<style scoped>\n",
              "    .dataframe tbody tr th:only-of-type {\n",
              "        vertical-align: middle;\n",
              "    }\n",
              "\n",
              "    .dataframe tbody tr th {\n",
              "        vertical-align: top;\n",
              "    }\n",
              "\n",
              "    .dataframe thead th {\n",
              "        text-align: right;\n",
              "    }\n",
              "</style>\n",
              "<table border=\"1\" class=\"dataframe\">\n",
              "  <thead>\n",
              "    <tr style=\"text-align: right;\">\n",
              "      <th></th>\n",
              "      <th>C1</th>\n",
              "      <th>C2</th>\n",
              "      <th>C3</th>\n",
              "      <th>C4</th>\n",
              "    </tr>\n",
              "  </thead>\n",
              "  <tbody>\n",
              "    <tr>\n",
              "      <th>F1</th>\n",
              "      <td>0.685306</td>\n",
              "      <td>0.517867</td>\n",
              "      <td>0.048485</td>\n",
              "      <td>0.137869</td>\n",
              "    </tr>\n",
              "    <tr>\n",
              "      <th>F2</th>\n",
              "      <td>0.186967</td>\n",
              "      <td>0.994318</td>\n",
              "      <td>0.520665</td>\n",
              "      <td>0.578790</td>\n",
              "    </tr>\n",
              "    <tr>\n",
              "      <th>F3</th>\n",
              "      <td>0.734819</td>\n",
              "      <td>0.541962</td>\n",
              "      <td>0.913154</td>\n",
              "      <td>0.807920</td>\n",
              "    </tr>\n",
              "  </tbody>\n",
              "</table>\n",
              "</div>"
            ],
            "text/plain": [
              "          C1        C2        C3        C4\n",
              "F1  0.685306  0.517867  0.048485  0.137869\n",
              "F2  0.186967  0.994318  0.520665  0.578790\n",
              "F3  0.734819  0.541962  0.913154  0.807920"
            ]
          },
          "metadata": {
            "tags": []
          },
          "execution_count": 20
        }
      ]
    },
    {
      "cell_type": "code",
      "metadata": {
        "id": "X_YOZWuMFZNx",
        "colab_type": "code",
        "outputId": "92355bda-a114-4085-f74f-eea959c48464",
        "colab": {
          "base_uri": "https://localhost:8080/",
          "height": 102
        }
      },
      "source": [
        "df.iloc[1]"
      ],
      "execution_count": 0,
      "outputs": [
        {
          "output_type": "execute_result",
          "data": {
            "text/plain": [
              "C1    0.186967\n",
              "C2    0.994318\n",
              "C3    0.520665\n",
              "C4    0.578790\n",
              "Name: F2, dtype: float64"
            ]
          },
          "metadata": {
            "tags": []
          },
          "execution_count": 22
        }
      ]
    },
    {
      "cell_type": "code",
      "metadata": {
        "id": "KGy5HWAWFmix",
        "colab_type": "code",
        "outputId": "ab9f53bc-2d33-4327-d749-eeff825d5fb3",
        "colab": {
          "base_uri": "https://localhost:8080/",
          "height": 34
        }
      },
      "source": [
        "df.iloc[2,2]"
      ],
      "execution_count": 0,
      "outputs": [
        {
          "output_type": "execute_result",
          "data": {
            "text/plain": [
              "0.9131535576757686"
            ]
          },
          "metadata": {
            "tags": []
          },
          "execution_count": 23
        }
      ]
    },
    {
      "cell_type": "code",
      "metadata": {
        "id": "bgydF5RmGE6S",
        "colab_type": "code",
        "colab": {
          "base_uri": "https://localhost:8080/",
          "height": 204
        },
        "outputId": "f083dc91-d012-4929-cf7c-840c1a355541"
      },
      "source": [
        "df.iloc[:,:]"
      ],
      "execution_count": 24,
      "outputs": [
        {
          "output_type": "execute_result",
          "data": {
            "text/html": [
              "<div>\n",
              "<style scoped>\n",
              "    .dataframe tbody tr th:only-of-type {\n",
              "        vertical-align: middle;\n",
              "    }\n",
              "\n",
              "    .dataframe tbody tr th {\n",
              "        vertical-align: top;\n",
              "    }\n",
              "\n",
              "    .dataframe thead th {\n",
              "        text-align: right;\n",
              "    }\n",
              "</style>\n",
              "<table border=\"1\" class=\"dataframe\">\n",
              "  <thead>\n",
              "    <tr style=\"text-align: right;\">\n",
              "      <th></th>\n",
              "      <th>C1</th>\n",
              "      <th>C2</th>\n",
              "      <th>C3</th>\n",
              "      <th>C4</th>\n",
              "    </tr>\n",
              "  </thead>\n",
              "  <tbody>\n",
              "    <tr>\n",
              "      <th>F1</th>\n",
              "      <td>0.685306</td>\n",
              "      <td>0.517867</td>\n",
              "      <td>0.048485</td>\n",
              "      <td>0.137869</td>\n",
              "    </tr>\n",
              "    <tr>\n",
              "      <th>F2</th>\n",
              "      <td>0.186967</td>\n",
              "      <td>0.994318</td>\n",
              "      <td>0.520665</td>\n",
              "      <td>0.578790</td>\n",
              "    </tr>\n",
              "    <tr>\n",
              "      <th>F3</th>\n",
              "      <td>0.734819</td>\n",
              "      <td>0.541962</td>\n",
              "      <td>0.913154</td>\n",
              "      <td>0.807920</td>\n",
              "    </tr>\n",
              "    <tr>\n",
              "      <th>F4</th>\n",
              "      <td>0.402998</td>\n",
              "      <td>0.357224</td>\n",
              "      <td>0.952877</td>\n",
              "      <td>0.343632</td>\n",
              "    </tr>\n",
              "    <tr>\n",
              "      <th>F5</th>\n",
              "      <td>0.865100</td>\n",
              "      <td>0.830278</td>\n",
              "      <td>0.538161</td>\n",
              "      <td>0.922469</td>\n",
              "    </tr>\n",
              "  </tbody>\n",
              "</table>\n",
              "</div>"
            ],
            "text/plain": [
              "          C1        C2        C3        C4\n",
              "F1  0.685306  0.517867  0.048485  0.137869\n",
              "F2  0.186967  0.994318  0.520665  0.578790\n",
              "F3  0.734819  0.541962  0.913154  0.807920\n",
              "F4  0.402998  0.357224  0.952877  0.343632\n",
              "F5  0.865100  0.830278  0.538161  0.922469"
            ]
          },
          "metadata": {
            "tags": []
          },
          "execution_count": 24
        }
      ]
    },
    {
      "cell_type": "code",
      "metadata": {
        "id": "dGySPV_yGjG7",
        "colab_type": "code",
        "colab": {}
      },
      "source": [
        ""
      ],
      "execution_count": 0,
      "outputs": []
    }
  ]
}